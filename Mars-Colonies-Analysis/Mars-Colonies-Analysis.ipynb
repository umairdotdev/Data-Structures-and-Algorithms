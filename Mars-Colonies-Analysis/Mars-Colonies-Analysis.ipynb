{
  "cells": [
    {
      "cell_type": "markdown",
      "metadata": {
        "id": "eSs4czeDjWLd"
      },
      "source": [
        "**Humanity has finally reached Mars. There are 4 colonies, and the humans are more or less adapting to life there**\n",
        "\n",
        "The 4 cities are called `Yharnam`, `Marsdrid`, `Ironforge` and `Churroland`. Each city has its own `population`.\n",
        "```python\n",
        "population = {\n",
        "    'Yharnam': 1000,\n",
        "    'Marsdrid': 2000,\n",
        "    'Ironforge': 3000,\n",
        "    'Churroland': 4000,\n",
        "}\n",
        "```\n",
        "\n",
        "The cities are all connected to each other, with different `distances` between them. There are also important points for life, like the three water sources, or wells. There's also a volcano that the Mars Geological Survey is monitoring. All these landmarks are defined by their coordinates, which are given in the `landmarks` dictionary.\n",
        "    \n",
        "```python\n",
        "# coordinates in kilometers\n",
        "landmarks = {\n",
        "    'Yharnam': (0, 0),\n",
        "    'Marsdrid': (0, 150),\n",
        "    'Ironforge': (100, 50),\n",
        "    'Churroland': (150, 100),\n",
        "    'Well 1': (0, 50),\n",
        "    'Well 2': (0, 100),\n",
        "    'Well 3': (100, 100),\n",
        "    'Volcano': (50, 100),\n",
        "}\n",
        "```"
      ]
    },
    {
      "cell_type": "code",
      "execution_count": null,
      "metadata": {
        "id": "DvQefP9ijWLf"
      },
      "outputs": [],
      "source": [
        "population = {\n",
        "    'Yharnam': 1000,\n",
        "    'Marsdrid': 2000,\n",
        "    'Ironforge': 3000,\n",
        "    'Churroland': 4000,\n",
        "}\n",
        "\n",
        "landmarks = {\n",
        "    'Yharnam': (0, 0),\n",
        "    'Marsdrid': (0, 150),\n",
        "    'Ironforge': (100, 50),\n",
        "    'Churroland': (150, 100),\n",
        "    'Well 1': (0, 50),\n",
        "    'Well 2': (0, 100),\n",
        "    'Well 3': (100, 100),\n",
        "    'Volcano': (50, 100),\n",
        "}"
      ]
    },
    {
      "cell_type": "markdown",
      "metadata": {
        "id": "saGYla78jWLf"
      },
      "source": [
        "## Task 1\n",
        "\n",
        "Knowing that we can calculate the distance between two points in 2-dimensional space using the formula:\n",
        "$$d = \\sqrt{(x_2 - x_1)^2 + (y_2 - y_1)^2}$$\n",
        "Define a function to calculate the distance between two geographic points.\n",
        "\n",
        "Each point should be a tuple of two numbers `(x, y)` representing the two coordinates --horizontal and vertical-- of the point.\n"
      ]
    },
    {
      "cell_type": "code",
      "execution_count": null,
      "metadata": {
        "id": "MztKjwXyjWLg"
      },
      "outputs": [],
      "source": [
        "def distance(point1,point2):\n",
        "\n",
        "    x1=point1[0]\n",
        "    y1=point1[1]\n",
        "    x2=point2[0]\n",
        "    y2=point2[1]\n",
        "\n",
        "    dist=(((x2-x1)**2)+((y2-y1)**2))**0.5\n",
        "\n",
        "    return dist"
      ]
    },
    {
      "cell_type": "markdown",
      "metadata": {
        "id": "wJjRBSu7jWLg"
      },
      "source": [
        "## Task 2\n",
        "\n",
        "Extend the functionality to compute distances between landmarks.\n",
        "\n",
        "Write a function that takes the followning arguments:\n",
        "* `landmarks`: a dictionary with the coordinates of the landmarks\n",
        "* `landmarks_list`: a list of the landmarks we want to calculate the distance between. It should be a list of 2 strings, where each string is the name of a landmark.\n",
        "\n",
        "and returns the distance between them.\n"
      ]
    },
    {
      "cell_type": "code",
      "execution_count": null,
      "metadata": {
        "id": "6vE-D6SqjWLg"
      },
      "outputs": [],
      "source": [
        "def distance_between_landmarks(landmarks, landmarks_list):\n",
        "    # Your code here using the distance function from exercise 1\n",
        "    landmark1=landmarks_list[0]\n",
        "    landmark2=landmarks_list[1]\n",
        "\n",
        "    point1=landmarks[landmark1]\n",
        "    point2=landmarks[landmark2]\n",
        "\n",
        "\n",
        "\n",
        "    dist=distance(point1,point2)\n",
        "\n",
        "    return dist"
      ]
    },
    {
      "cell_type": "markdown",
      "metadata": {
        "id": "Lv3okTlLjWLg"
      },
      "source": [
        "## Task 3\n",
        "\n",
        "Analyze which city has the best access to water sources. To do so, we need to calculate the distance between each city and each well, and then average the distances.\n",
        "\n",
        "We can do this by using a double `for` loop:\n",
        "\n"
      ]
    },
    {
      "cell_type": "code",
      "execution_count": null,
      "metadata": {
        "id": "6xxf1bhVjWLg"
      },
      "outputs": [],
      "source": [
        "cities=[ 'Yharnam','Marsdrid','Ironforge','Churroland']\n",
        "wells=['Well 1','Well 2','Well 3']\n",
        "dict_of_avg_distances = {}\n",
        "\n",
        "for city in cities:\n",
        "\n",
        "    distances_to_wells = []\n",
        "\n",
        "    for well in wells:\n",
        "\n",
        "        dist= distance_between_landmarks(landmarks, [city,well])\n",
        "        distances_to_wells.append(dist)\n",
        "\n",
        "        # Calculate distance between city and well\n",
        "        # save the distance in a list with append\n",
        "    avg_distance=sum(distances_to_wells)/3\n",
        "    dict_of_avg_distances[city]=avg_distance\n",
        "\n",
        "    # sum the 3 distances in the list and divide by 3 to calculate the average\n",
        "    # add the average distance to a dictionary where the key is the city and the value is the average distance to water."
      ]
    },
    {
      "cell_type": "markdown",
      "metadata": {
        "id": "cwNhymLZjWLh"
      },
      "source": [
        "## Task 4\n",
        "\n",
        "Which city or cities have the best access to water? Which city or cities has the worst access to water?\n",
        "\n",
        "\n",
        "```python\n",
        "dummy_dict = {\n",
        "    'city1': 10,\n",
        "    'city2': 20,\n",
        "    'city3': 30,\n",
        "}\n",
        "\n",
        "min_value = min(dummy_dict, key=dummy_dict.get)\n",
        "max_value = max(dummy_dict, key=dummy_dict.get)\n",
        "```\n",
        "Keep in mind that these functions will return the first key found with the minimum or maximum value, so if there are repeated values, it might not be the one you want."
      ]
    },
    {
      "cell_type": "code",
      "execution_count": null,
      "metadata": {
        "id": "5bWFepLCjWLh",
        "outputId": "3adc85cd-c521-44ce-97df-652ee168726c"
      },
      "outputs": [
        {
          "name": "stdout",
          "output_type": "stream",
          "text": [
            "The city with best access to water is:  Marsdrid\n",
            "The city with worst access to water is:  Churroland\n"
          ]
        }
      ],
      "source": [
        "print(\"The city with best access to water is: \",min(dict_of_avg_distances, key=dict_of_avg_distances.get))\n",
        "print(\"The city with worst access to water is: \",max(dict_of_avg_distances, key=dict_of_avg_distances.get))"
      ]
    },
    {
      "cell_type": "markdown",
      "metadata": {
        "id": "nXl_2hsujWLh"
      },
      "source": [
        "## Task 5\n",
        "\n",
        "Now that we know which city has the best access to water, create a dictionary with the cities as keys and their distance to the volcano as values"
      ]
    },
    {
      "cell_type": "code",
      "execution_count": null,
      "metadata": {
        "id": "fO2k1vMqjWLh"
      },
      "outputs": [],
      "source": [
        "dict_of_avg_distances_to_volcano = {}\n",
        "for city in cities:\n",
        "    dist= distance_between_landmarks(landmarks,[city,'Volcano'])\n",
        "    dict_of_avg_distances_to_volcano[city]=dist"
      ]
    },
    {
      "cell_type": "markdown",
      "metadata": {
        "id": "b9RawRN7jWLh"
      },
      "source": [
        "## Task 6\n",
        "\n",
        "The Geological Survey found that in case of an eruption, the explosion will have a radius between 75 and 110 km.\n",
        "* In the best case scenario, the explosion will be 75 km away from the volcano.\n",
        "* In the worst case scenario, the explosion will be 110 km away from the volcano.\n",
        "\n",
        "Knowing this, which city or cities are at risk of being destroyed by the volcano in the best case scenario? Which city or cities are at risk of being destroyed by the volcano in the worst case scenario?"
      ]
    },
    {
      "cell_type": "code",
      "execution_count": null,
      "metadata": {
        "id": "3V1lzslKjWLi",
        "outputId": "d0137222-d117-45d4-9b8c-9b3e3be41f13"
      },
      "outputs": [
        {
          "name": "stdout",
          "output_type": "stream",
          "text": [
            "City or cities are at risk of being destroyed by the volcano in the best case scenario:  ['Marsdrid', 'Ironforge']\n",
            "City or cities are at risk of being destroyed by the volcano in the worst case scenario:  ['Marsdrid', 'Ironforge', 'Churroland']\n"
          ]
        }
      ],
      "source": [
        "def cities_at_risk(landmarks, radii):\n",
        "    # Your code here\n",
        "    best_case_radius=radii[0]\n",
        "    worst_case_radius=radii[1]\n",
        "    cities_at_risk_best_case=[]\n",
        "    cities_at_risk_worst_case=[]\n",
        "\n",
        "    cities=[ 'Yharnam','Marsdrid','Ironforge','Churroland']\n",
        "    dict_of_avg_distances_to_volcano = {}\n",
        "    for city in cities:\n",
        "        dist= distance_between_landmarks(landmarks,[city,'Volcano'])\n",
        "        dict_of_avg_distances_to_volcano[city]=dist\n",
        "\n",
        "    for city in cities:\n",
        "        if dict_of_avg_distances_to_volcano[city]< best_case_radius:\n",
        "            cities_at_risk_best_case.append(city)\n",
        "        if dict_of_avg_distances_to_volcano[city]< worst_case_radius:\n",
        "            cities_at_risk_worst_case.append(city)\n",
        "\n",
        "    return cities_at_risk_best_case, cities_at_risk_worst_case\n",
        "\n",
        "cities_at_risk_best_case, cities_at_risk_worst_case=cities_at_risk(landmarks, [75,110])\n",
        "\n",
        "print(\"City or cities are at risk of being destroyed by the volcano in the best case scenario: \",cities_at_risk_best_case)\n",
        "print(\"City or cities are at risk of being destroyed by the volcano in the worst case scenario: \",cities_at_risk_worst_case)"
      ]
    },
    {
      "cell_type": "markdown",
      "metadata": {
        "id": "B3yCFsu_jWLi"
      },
      "source": [
        "## Task 7\n",
        "\n",
        "Evaluate risks based on volcanic activity. The volcano has increased its activity and our geologist have estimated the radius of explosion: 90 km.\n",
        "\n",
        "We need to evacuate the cities at risk. How many people will we have to evacuate?\n",
        "\n",
        "Adapt the previous function to return the number of people at risk, passing the `population` dictionary as an argument, as well as `landmarks` and the explosion radius.\n"
      ]
    },
    {
      "cell_type": "code",
      "execution_count": null,
      "metadata": {
        "id": "N91b1fXBjWLi",
        "outputId": "b1244fab-88ad-448a-80e3-a9eec1725fe6"
      },
      "outputs": [
        {
          "name": "stdout",
          "output_type": "stream",
          "text": [
            "Total population that we have to evacuate is:  5000\n"
          ]
        }
      ],
      "source": [
        "def population_to_evacuate(landmarks, population, explosion_radius):\n",
        "    # Your code here\n",
        "    cities_at_risk_best_case, cities_at_risk_worst_case= cities_at_risk(landmarks, [explosion_radius,explosion_radius])\n",
        "\n",
        "    people_at_risk=0\n",
        "\n",
        "    for city in cities_at_risk_best_case:\n",
        "        people_at_risk=people_at_risk+population[city]\n",
        "\n",
        "    return people_at_risk\n",
        "\n",
        "total_people_to_evacuate=population_to_evacuate(landmarks,population,90)\n",
        "print(\"Total population that we have to evacuate is: \",total_people_to_evacuate)"
      ]
    },
    {
      "cell_type": "markdown",
      "metadata": {
        "id": "rBzQAOImjWLi"
      },
      "source": [
        "## Task 8\n",
        "\n",
        "Which cities are the ones we need to evacuate? Which cities are the ones we can keep?\n",
        "\n",
        "Reuse the previous function to return a dictionary with `keep` and `evacuate` as keys, and the cities as values.\n"
      ]
    },
    {
      "cell_type": "code",
      "execution_count": null,
      "metadata": {
        "id": "G80j9pn3jWLi",
        "outputId": "afda2cc2-275c-4f37-da00-b137fd4761d9"
      },
      "outputs": [
        {
          "name": "stdout",
          "output_type": "stream",
          "text": [
            "Status of cities:  {'evacuate': ['Marsdrid', 'Ironforge'], 'keep': ['Yharnam', 'Churroland']}\n"
          ]
        }
      ],
      "source": [
        "def status_of_cities(landmarks, explosion_radius):\n",
        "    # Your code here\n",
        "    dict_status={}\n",
        "    cities_at_risk_best_case, cities_at_risk_worst_case=cities_at_risk(landmarks, [explosion_radius,explosion_radius])\n",
        "\n",
        "    dict_status['evacuate']=cities_at_risk_worst_case\n",
        "    cities=['Yharnam','Marsdrid','Ironforge','Churroland']\n",
        "\n",
        "    keep=[]\n",
        "    for city in cities:\n",
        "        if city not in cities_at_risk_worst_case:\n",
        "            keep.append(city)\n",
        "    dict_status['keep']=keep\n",
        "\n",
        "    return dict_status\n",
        "print(\"Status of cities: \",status_of_cities(landmarks, 90))"
      ]
    },
    {
      "cell_type": "markdown",
      "metadata": {
        "id": "r958VvXTjWLi"
      },
      "source": [
        "## Task 9: open-ended\n",
        "\n",
        "What's the best way to evacuate the cities? Let's think of the difficulty for the evacuation as the product of the population to be evacuated and the distance to which they're being evacuated.\n",
        "\n",
        "```python\n",
        "difficulty = population_to_evacuate * distance_to_safety\n",
        "```\n",
        "\n",
        "We can evacuate all the population to the same city, or we can split the population between the cities, according to the distance between their original city and the city they're being evacuated to.\n",
        "\n",
        "Use code to back your decision."
      ]
    },
    {
      "cell_type": "code",
      "execution_count": null,
      "metadata": {
        "id": "IegTHaahjWLi",
        "outputId": "ad88719e-84a6-4ad0-e303-f06e811a2ca6"
      },
      "outputs": [
        {
          "name": "stdout",
          "output_type": "stream",
          "text": [
            "Total difficulty to evacuate to a single safe city Yharnam:  635410.1966249684\n"
          ]
        }
      ],
      "source": [
        "status_dict=status_of_cities(landmarks, 90)\n",
        "#Evacuation to single safe city-Yharnam\n",
        "safe_city=status_dict['keep'][0]\n",
        "cities_to_evacuate=status_dict['evacuate']\n",
        "total_difficulty_single_city_yharnam=0\n",
        "for city in cities_to_evacuate:\n",
        "    dist=distance_between_landmarks(landmarks, [city,safe_city])\n",
        "    difficulty=population[city]*dist\n",
        "    total_difficulty_single_city_yharnam=total_difficulty_single_city_yharnam+difficulty\n",
        "\n",
        "print(\"Total difficulty to evacuate to a single safe city Yharnam: \",total_difficulty_single_city_yharnam)"
      ]
    },
    {
      "cell_type": "code",
      "execution_count": null,
      "metadata": {
        "id": "e_-gVTipjWLj",
        "outputId": "41b5db9d-6502-4865-d6c0-ea12c517501d"
      },
      "outputs": [
        {
          "name": "stdout",
          "output_type": "stream",
          "text": [
            "Total difficulty to evacuate to a single safe city Churroland:  528359.8003728022\n"
          ]
        }
      ],
      "source": [
        "#Evacuation to single safe city-Churroland\n",
        "safe_city=status_dict['keep'][1]\n",
        "cities_to_evacuate=status_dict['evacuate']\n",
        "total_difficulty_single_city_churroland=0\n",
        "for city in cities_to_evacuate:\n",
        "    dist=distance_between_landmarks(landmarks, [city,safe_city])\n",
        "    difficulty=population[city]*dist\n",
        "    total_difficulty_single_city_churroland=total_difficulty_single_city_churroland+difficulty\n",
        "\n",
        "print(\"Total difficulty to evacuate to a single safe city Churroland: \",total_difficulty_single_city_churroland)"
      ]
    },
    {
      "cell_type": "code",
      "execution_count": null,
      "metadata": {
        "id": "EOHTNdOujWLj",
        "outputId": "5dbe1393-b65c-444c-98fe-5bfe96b3e9a1"
      },
      "outputs": [
        {
          "name": "stdout",
          "output_type": "stream",
          "text": [
            "Total difficulty to evacuate population of each city at risk to their closest safe city:  512132.0343559643\n"
          ]
        }
      ],
      "source": [
        "#Evacuation to closest city\n",
        "safe_cities=status_dict['keep']\n",
        "cities_to_evacuate=status_dict['evacuate']\n",
        "total_difficulty_closest=0\n",
        "for evacuation_city in cities_to_evacuate:\n",
        "    distance_list=[]\n",
        "    for safe_city in safe_cities:\n",
        "        dist=distance_between_landmarks(landmarks, [evacuation_city,safe_city])\n",
        "        distance_list.append(dist)\n",
        "    difficulty=population[evacuation_city]*min(distance_list)\n",
        "    total_difficulty_closest=total_difficulty_closest+difficulty\n",
        "print(\"Total difficulty to evacuate population of each city at risk to their closest safe city: \",total_difficulty_closest)"
      ]
    },
    {
      "cell_type": "code",
      "execution_count": null,
      "metadata": {
        "id": "KBLx4GJujWLj",
        "outputId": "e0847fba-4f4b-4326-c5c4-e95216608a9c"
      },
      "outputs": [
        {
          "name": "stdout",
          "output_type": "stream",
          "text": [
            "The best way to evacuate is evacuate population of each city at risk to its closest city\n"
          ]
        }
      ],
      "source": [
        "lowest_difficulty_single_safe_city=0\n",
        "if total_difficulty_single_city_yharnam<total_difficulty_single_city_churroland:\n",
        "    lowest_difficulty_single_safe_city=total_difficulty_single_city_yharnam\n",
        "else:\n",
        "    lowest_difficulty_single_safe_city=total_difficulty_single_city_churroland\n",
        "if total_difficulty_closest<total_difficulty_single_city:\n",
        "    print(\"The best way to evacuate is evacuate population of each city at risk to its closest city\")\n",
        "else:\n",
        "    print(\"The best way to evacuate is evacuate total population to a single safe city\")"
      ]
    },
    {
      "cell_type": "code",
      "execution_count": null,
      "metadata": {
        "id": "wGpuvf-njWLj"
      },
      "outputs": [],
      "source": []
    }
  ],
  "metadata": {
    "kernelspec": {
      "display_name": "Python 3 (ipykernel)",
      "language": "python",
      "name": "python3"
    },
    "language_info": {
      "codemirror_mode": {
        "name": "ipython",
        "version": 3
      },
      "file_extension": ".py",
      "mimetype": "text/x-python",
      "name": "python",
      "nbconvert_exporter": "python",
      "pygments_lexer": "ipython3",
      "version": "3.8.13"
    },
    "vscode": {
      "interpreter": {
        "hash": "a9f295c814a5ce7ff0b0a20f2b13117bfaf008fc7980e281f2c2bfa8e9ec0fbf"
      }
    },
    "colab": {
      "provenance": []
    }
  },
  "nbformat": 4,
  "nbformat_minor": 0
}